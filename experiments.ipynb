{
  "cells": [
    {
      "cell_type": "markdown",
      "metadata": {
        "id": "IQwlunyE86kE"
      },
      "source": [
        "# 1. Вычисления на GPU. Проект: ускорение инференса нейросети\n",
        "\n",
        "**ФИО**: Хоружев Илья Максимович"
      ]
    },
    {
      "cell_type": "markdown",
      "metadata": {},
      "source": [
        "Будем по картинке определять одежду с помощью самописной нейросети"
      ]
    },
    {
      "cell_type": "code",
      "execution_count": 1,
      "metadata": {},
      "outputs": [
        {
          "data": {
            "text/plain": [
              "'NVIDIA GeForce RTX 4070'"
            ]
          },
          "execution_count": 1,
          "metadata": {},
          "output_type": "execute_result"
        }
      ],
      "source": [
        "import torch\n",
        "\n",
        "torch.cuda.get_device_name(\"cuda:0\")"
      ]
    },
    {
      "cell_type": "code",
      "execution_count": 2,
      "metadata": {
        "id": "UyCGfNgA86kF"
      },
      "outputs": [],
      "source": [
        "import numpy as np\n",
        "import torch\n",
        "\n",
        "from matplotlib import pyplot as plt\n",
        "\n",
        "from torch import nn\n",
        "from torch.autograd import Function\n",
        "from torch.autograd import gradcheck\n",
        "from torch.optim import Optimizer\n",
        "from torch.utils.data import Dataset, DataLoader\n",
        "from torchvision import datasets"
      ]
    },
    {
      "cell_type": "code",
      "execution_count": 3,
      "metadata": {
        "id": "LauGpMvGF5qr"
      },
      "outputs": [],
      "source": [
        "training_data = datasets.FashionMNIST(\n",
        "    root=\"data\",\n",
        "    train=True,\n",
        "    download=True\n",
        ")\n",
        "\n",
        "test_data = datasets.FashionMNIST(\n",
        "    root=\"data\",\n",
        "    train=False,\n",
        "    download=True\n",
        ")"
      ]
    },
    {
      "cell_type": "code",
      "execution_count": 4,
      "metadata": {
        "id": "snTBHRTQI1bc"
      },
      "outputs": [],
      "source": [
        "import os\n",
        "\n",
        "def load_mnist(path, kind='train'):\n",
        "    import os\n",
        "    import gzip\n",
        "    import numpy as np\n",
        "\n",
        "    \"\"\"Load MNIST data from `path`\"\"\"\n",
        "    labels_path = os.path.join(path,\n",
        "                               '%s-labels-idx1-ubyte.gz'\n",
        "                               % kind)\n",
        "    images_path = os.path.join(path,\n",
        "                               '%s-images-idx3-ubyte.gz'\n",
        "                               % kind)\n",
        "\n",
        "    with gzip.open(labels_path, 'rb') as lbpath:\n",
        "        labels = np.frombuffer(lbpath.read(), dtype=np.uint8,\n",
        "                               offset=8)\n",
        "\n",
        "    with gzip.open(images_path, 'rb') as imgpath:\n",
        "        images = np.frombuffer(imgpath.read(), dtype=np.uint8,\n",
        "                               offset=16).reshape(len(labels), 784)\n",
        "\n",
        "    return images, labels\n",
        "\n",
        "class FashionMnist(Dataset):\n",
        "    def __init__(self, path, train=True, image_transform=None,\n",
        "                 label_transform=None):\n",
        "        if train:\n",
        "            images, labels = load_mnist(os.path.join(path,\"raw\"))\n",
        "        else:\n",
        "            images, labels = load_mnist(os.path.join(path,\"raw\"), kind=\"t10k\")\n",
        "        \n",
        "        if image_transform is not None:\n",
        "            self._images = image_transform(images.astype(np.float32))\n",
        "        else:\n",
        "            self._images = images.astype(np.float32)\n",
        "        \n",
        "        if label_transform is not None:  \n",
        "            self._labels = label_transform(labels)\n",
        "        else:\n",
        "            self._labels = labels\n",
        "\n",
        "    def __len__(self,):\n",
        "        return len(self._labels)\n",
        "\n",
        "    def __getitem__(self, idx):\n",
        "        img = self._images[idx].reshape((28, 28))\n",
        "        label = self._labels[idx]\n",
        "        \n",
        "        return img, label\n",
        "\n",
        "test_dataset = FashionMnist(\"data/FashionMNIST\", train=False)\n",
        "train_dataset = FashionMnist(\"data/FashionMNIST\")"
      ]
    },
    {
      "cell_type": "markdown",
      "metadata": {
        "id": "JciETIfndiGR"
      },
      "source": [
        "Визуализируйте случайные элементы набора данных."
      ]
    },
    {
      "cell_type": "code",
      "execution_count": 5,
      "metadata": {
        "id": "wBky4UtmOS71"
      },
      "outputs": [
        {
          "data": {
            "image/png": "[encoded data removed]",
            "text/plain": [
              "<Figure size 640x480 with 1 Axes>"
            ]
          },
          "metadata": {},
          "output_type": "display_data"
        }
      ],
      "source": [
        "classes = {\n",
        "    0: \"T-shirt/top\", \n",
        "    1: \"Trouser\",\n",
        "    2: \"Pullover\",\n",
        "    3: \"Dress\",\n",
        "    4: \"Coat\",\n",
        "    5: \"Sandal\",\n",
        "    6: \"Shirt\",\n",
        "    7: \"Sneaker\",\n",
        "    8: \"Bag\",\n",
        "    9: \"Ankle boot\"\n",
        "}\n",
        "\n",
        "ind = np.random.randint(len(train_dataset))\n",
        "\n",
        "plt.imshow(train_dataset[ind][0])\n",
        "plt.title(classes[train_dataset[ind][1]])\n",
        "plt.show()"
      ]
    },
    {
      "cell_type": "code",
      "execution_count": 6,
      "metadata": {
        "id": "7BpFQ_Y2PoeI"
      },
      "outputs": [
        {
          "name": "stderr",
          "output_type": "stream",
          "text": [
            "/tmp/ipykernel_4478/2421384196.py:5: UserWarning: The given NumPy array is not writable, and PyTorch does not support non-writable tensors. This means writing to this tensor will result in undefined behavior. You may want to copy the array to protect its data or make it writable before converting it to a tensor. This type of warning will be suppressed for the rest of this program. (Triggered internally at /opt/conda/conda-bld/pytorch_1695627723575/work/torch/csrc/utils/tensor_numpy.cpp:206.)\n",
            "  return torch.from_numpy(sample)\n"
          ]
        }
      ],
      "source": [
        "class ToTensor:\n",
        "    \"\"\"Convert ndarrays in sample to Tensors.\"\"\"\n",
        "\n",
        "    def __call__(self, sample):\n",
        "        return torch.from_numpy(sample)\n",
        "\n",
        "transform = ToTensor()\n",
        "\n",
        "test_dataset = FashionMnist(\"data/FashionMNIST\",\n",
        "                            train=False,\n",
        "                            image_transform=transform,\n",
        "                            label_transform=transform\n",
        "                            )\n",
        "train_dataset = FashionMnist(\"data/FashionMNIST\",\n",
        "                             image_transform=transform,\n",
        "                             label_transform=transform\n",
        "                             )"
      ]
    },
    {
      "cell_type": "code",
      "execution_count": 7,
      "metadata": {
        "id": "4dDtlvlCXNbW"
      },
      "outputs": [
        {
          "name": "stdout",
          "output_type": "stream",
          "text": [
            "The length of the batch is 2\n",
            "The shape of the batch[0] is torch.Size([15, 784])\n"
          ]
        }
      ],
      "source": [
        "def collate(batch):\n",
        "    imgs = torch.tensor([(item[0].ravel() / 255).tolist() for item in batch])\n",
        "    labels = torch.tensor([item[1].tolist() for item in batch])\n",
        "    \n",
        "    return imgs, labels\n",
        "\n",
        "test_dataloader = DataLoader(test_dataset, batch_size=15, num_workers=2,\n",
        "                             shuffle=True, collate_fn=collate)\n",
        "train_dataloader = DataLoader(train_dataset, batch_size=15, num_workers=2,\n",
        "                              shuffle=True, collate_fn=collate)\n",
        "batch = next(iter(test_dataloader))\n",
        "\n",
        "print(f\"The length of the batch is {len(batch)}\")\n",
        "print(f\"The shape of the batch[0] is {batch[0].shape}\")"
      ]
    },
    {
      "cell_type": "code",
      "execution_count": 8,
      "metadata": {},
      "outputs": [],
      "source": [
        "from neural_net import Network, CrossEntropy\n",
        "from training import perform_epoch"
      ]
    },
    {
      "cell_type": "markdown",
      "metadata": {
        "id": "FtamPEJZgOY5"
      },
      "source": [
        "Теперь обучим нашу нейронную сеть c разными размерностями скрытых слоев (32, 128, 512, 1024, 1532)"
      ]
    },
    {
      "cell_type": "code",
      "execution_count": 9,
      "metadata": {},
      "outputs": [
        {
          "name": "stderr",
          "output_type": "stream",
          "text": [
            "100%|██████████| 4000/4000 [00:04<00:00, 824.07it/s]\n"
          ]
        },
        {
          "name": "stdout",
          "output_type": "stream",
          "text": [
            "Epoch - 0 : loss 0.5383268827819265, accuracy 0.8060328960418701\n",
            "Current learning rate: 0.001\n"
          ]
        },
        {
          "name": "stderr",
          "output_type": "stream",
          "text": [
            "100%|██████████| 4000/4000 [00:04<00:00, 859.89it/s]\n"
          ]
        },
        {
          "name": "stdout",
          "output_type": "stream",
          "text": [
            "Epoch - 1 : loss 0.400562827116577, accuracy 0.8556509613990784\n",
            "Current learning rate: 0.001\n"
          ]
        },
        {
          "name": "stderr",
          "output_type": "stream",
          "text": [
            "100%|██████████| 4000/4000 [00:04<00:00, 839.03it/s]"
          ]
        },
        {
          "name": "stdout",
          "output_type": "stream",
          "text": [
            "Epoch - 2 : loss 0.36788649309135507, accuracy 0.865666389465332\n",
            "Current learning rate: 0.001\n"
          ]
        },
        {
          "name": "stderr",
          "output_type": "stream",
          "text": [
            "\n"
          ]
        }
      ],
      "source": [
        "model32 = Network(num_layers=4, dropout_prob=0, hidden_layers_size=32)\n",
        "optimizer = torch.optim.Adam(model32.parameters())\n",
        "criterion = CrossEntropy()\n",
        "\n",
        "device = 'cpu'\n",
        "\n",
        "model32.to(device)\n",
        "\n",
        "for epoch in range(3):\n",
        "    loss, acc = perform_epoch(model32, train_dataloader, criterion,\n",
        "                                optimizer=optimizer, device=device)\n",
        "    print(f\"Epoch - {epoch} : loss {loss}, accuracy {acc}\")\n",
        "    print(f\"Current learning rate: {optimizer.param_groups[0]['lr']}\")"
      ]
    },
    {
      "cell_type": "code",
      "execution_count": 10,
      "metadata": {},
      "outputs": [
        {
          "data": {
            "text/plain": [
              "Network(\n",
              "  (activations): ModuleDict(\n",
              "    (relu): ReLU()\n",
              "  )\n",
              "  (layers): ModuleList(\n",
              "    (0): Linear(784, 32)\n",
              "    (1): ReLU()\n",
              "    (2): Linear(32, 32)\n",
              "    (3): ReLU()\n",
              "    (4): Linear(32, 32)\n",
              "    (5): ReLU()\n",
              "    (6): Linear(32, 10)\n",
              "    (7): LogSoftmax()\n",
              "  )\n",
              ")"
            ]
          },
          "execution_count": 10,
          "metadata": {},
          "output_type": "execute_result"
        }
      ],
      "source": [
        "model32.eval()"
      ]
    },
    {
      "cell_type": "code",
      "execution_count": 11,
      "metadata": {},
      "outputs": [
        {
          "name": "stdout",
          "output_type": "stream",
          "text": [
            "3.11 s ± 77.8 ms per loop (mean ± std. dev. of 7 runs, 1 loop each)\n"
          ]
        }
      ],
      "source": [
        "%%timeit\n",
        "\n",
        "with torch.no_grad():\n",
        "    for batch_data, batch_labels in train_dataloader:\n",
        "        model_labels = model32(batch_data)"
      ]
    },
    {
      "cell_type": "markdown",
      "metadata": {},
      "source": [
        "Загрузим веса в класс для инференса"
      ]
    },
    {
      "cell_type": "code",
      "execution_count": 12,
      "metadata": {},
      "outputs": [
        {
          "name": "stdout",
          "output_type": "stream",
          "text": [
            "\n"
          ]
        }
      ],
      "source": [
        "from inference_cuda import NeuralNetworkCUDA\n",
        "\n",
        "weights = [x.detach().numpy() for x in model32.parameters() if len(x.shape) == 2]\n",
        "biases = [x.detach().numpy() for x in model32.parameters() if len(x.shape) == 1]\n",
        "\n",
        "inference_model = NeuralNetworkCUDA(784, 10, 32)\n",
        "inference_model.load_model(weights, biases)"
      ]
    },
    {
      "cell_type": "code",
      "execution_count": 13,
      "metadata": {},
      "outputs": [
        {
          "name": "stdout",
          "output_type": "stream",
          "text": [
            "3.37 s ± 31.5 ms per loop (mean ± std. dev. of 7 runs, 1 loop each)\n"
          ]
        }
      ],
      "source": [
        "%%timeit\n",
        "\n",
        "for batch_data, batch_labels in train_dataloader:\n",
        "    model_labels = inference_model.apply(batch_data)"
      ]
    },
    {
      "cell_type": "markdown",
      "metadata": {},
      "source": [
        "на гпу дольше вычисляется из-за не самойэффективной реализации "
      ]
    },
    {
      "cell_type": "markdown",
      "metadata": {},
      "source": [
        "### 128"
      ]
    },
    {
      "cell_type": "code",
      "execution_count": 33,
      "metadata": {},
      "outputs": [
        {
          "name": "stderr",
          "output_type": "stream",
          "text": [
            "100%|██████████| 4000/4000 [00:05<00:00, 711.37it/s]\n"
          ]
        },
        {
          "name": "stdout",
          "output_type": "stream",
          "text": [
            "Epoch - 0 : loss 0.48991525602107866, accuracy 0.8260159492492676\n",
            "Current learning rate: 0.001\n"
          ]
        },
        {
          "name": "stderr",
          "output_type": "stream",
          "text": [
            "100%|██████████| 4000/4000 [00:05<00:00, 730.89it/s]\n"
          ]
        },
        {
          "name": "stdout",
          "output_type": "stream",
          "text": [
            "Epoch - 1 : loss 0.3765409529886674, accuracy 0.8623170852661133\n",
            "Current learning rate: 0.001\n"
          ]
        },
        {
          "name": "stderr",
          "output_type": "stream",
          "text": [
            "100%|██████████| 4000/4000 [00:05<00:00, 734.56it/s]"
          ]
        },
        {
          "name": "stdout",
          "output_type": "stream",
          "text": [
            "Epoch - 2 : loss 0.34027606404596006, accuracy 0.8747332096099854\n",
            "Current learning rate: 0.001\n"
          ]
        },
        {
          "name": "stderr",
          "output_type": "stream",
          "text": [
            "\n"
          ]
        }
      ],
      "source": [
        "model128     = Network(num_layers=4, dropout_prob=0, hidden_layers_size=128)\n",
        "optimizer = torch.optim.Adam(model128.parameters())\n",
        "criterion = CrossEntropy()\n",
        "\n",
        "device = 'cpu'\n",
        "\n",
        "model128.to(device)\n",
        "\n",
        "for epoch in range(3):\n",
        "    loss, acc = perform_epoch(model128, train_dataloader, criterion,\n",
        "                                optimizer=optimizer, device=device)\n",
        "    print(f\"Epoch - {epoch} : loss {loss}, accuracy {acc}\")\n",
        "    print(f\"Current learning rate: {optimizer.param_groups[0]['lr']}\")"
      ]
    },
    {
      "cell_type": "code",
      "execution_count": 15,
      "metadata": {},
      "outputs": [
        {
          "data": {
            "text/plain": [
              "Network(\n",
              "  (activations): ModuleDict(\n",
              "    (relu): ReLU()\n",
              "  )\n",
              "  (layers): ModuleList(\n",
              "    (0): Linear(784, 128)\n",
              "    (1): ReLU()\n",
              "    (2): Linear(128, 128)\n",
              "    (3): ReLU()\n",
              "    (4): Linear(128, 128)\n",
              "    (5): ReLU()\n",
              "    (6): Linear(128, 10)\n",
              "    (7): LogSoftmax()\n",
              "  )\n",
              ")"
            ]
          },
          "execution_count": 15,
          "metadata": {},
          "output_type": "execute_result"
        }
      ],
      "source": [
        "model128.eval()"
      ]
    },
    {
      "cell_type": "code",
      "execution_count": 16,
      "metadata": {},
      "outputs": [
        {
          "name": "stdout",
          "output_type": "stream",
          "text": [
            "3.15 s ± 26.3 ms per loop (mean ± std. dev. of 7 runs, 1 loop each)\n"
          ]
        }
      ],
      "source": [
        "%%timeit\n",
        "\n",
        "with torch.no_grad():\n",
        "    for batch_data, batch_labels in train_dataloader:\n",
        "        model_labels = model128(batch_data.to(device))"
      ]
    },
    {
      "cell_type": "code",
      "execution_count": 20,
      "metadata": {},
      "outputs": [
        {
          "name": "stdout",
          "output_type": "stream",
          "text": [
            "\n"
          ]
        }
      ],
      "source": [
        "weights = [x.detach().numpy() for x in model128.parameters() if len(x.shape) == 2]\n",
        "biases = [x.detach().numpy() for x in model128.parameters() if len(x.shape) == 1]\n",
        "\n",
        "inference_model = NeuralNetworkCUDA(784, 10, 128)\n",
        "inference_model.load_model(weights, biases)"
      ]
    },
    {
      "cell_type": "code",
      "execution_count": 21,
      "metadata": {},
      "outputs": [
        {
          "name": "stdout",
          "output_type": "stream",
          "text": [
            "3.33 s ± 15.2 ms per loop (mean ± std. dev. of 7 runs, 1 loop each)\n"
          ]
        }
      ],
      "source": [
        "%%timeit\n",
        "\n",
        "for batch_data, batch_labels in train_dataloader:\n",
        "    model_labels = inference_model.apply(batch_data)"
      ]
    },
    {
      "cell_type": "markdown",
      "metadata": {},
      "source": [
        "на гпу все еще дольше"
      ]
    },
    {
      "cell_type": "code",
      "execution_count": 22,
      "metadata": {},
      "outputs": [
        {
          "name": "stderr",
          "output_type": "stream",
          "text": [
            "100%|██████████| 4000/4000 [00:10<00:00, 397.13it/s]\n"
          ]
        },
        {
          "name": "stdout",
          "output_type": "stream",
          "text": [
            "Epoch - 0 : loss 0.49283915635896847, accuracy 0.8212820887565613\n",
            "Current learning rate: 0.001\n"
          ]
        },
        {
          "name": "stderr",
          "output_type": "stream",
          "text": [
            "100%|██████████| 4000/4000 [00:10<00:00, 364.61it/s]\n"
          ]
        },
        {
          "name": "stdout",
          "output_type": "stream",
          "text": [
            "Epoch - 1 : loss 0.3745171337302309, accuracy 0.8633339405059814\n",
            "Current learning rate: 0.001\n"
          ]
        },
        {
          "name": "stderr",
          "output_type": "stream",
          "text": [
            "100%|██████████| 4000/4000 [00:10<00:00, 372.50it/s]"
          ]
        },
        {
          "name": "stdout",
          "output_type": "stream",
          "text": [
            "Epoch - 2 : loss 0.3415282298647799, accuracy 0.8741332292556763\n",
            "Current learning rate: 0.001\n"
          ]
        },
        {
          "name": "stderr",
          "output_type": "stream",
          "text": [
            "\n"
          ]
        }
      ],
      "source": [
        "model512     = Network(num_layers=4, dropout_prob=0, hidden_layers_size=512)\n",
        "optimizer = torch.optim.Adam(model512.parameters())\n",
        "criterion = CrossEntropy()\n",
        "\n",
        "device = 'cpu'\n",
        "\n",
        "model512.to(device)\n",
        "\n",
        "for epoch in range(3):\n",
        "    loss, acc = perform_epoch(model512, train_dataloader, criterion,\n",
        "                                optimizer=optimizer, device=device)\n",
        "    print(f\"Epoch - {epoch} : loss {loss}, accuracy {acc}\")\n",
        "    print(f\"Current learning rate: {optimizer.param_groups[0]['lr']}\")"
      ]
    },
    {
      "cell_type": "code",
      "execution_count": 23,
      "metadata": {},
      "outputs": [
        {
          "data": {
            "text/plain": [
              "Network(\n",
              "  (activations): ModuleDict(\n",
              "    (relu): ReLU()\n",
              "  )\n",
              "  (layers): ModuleList(\n",
              "    (0): Linear(784, 512)\n",
              "    (1): ReLU()\n",
              "    (2): Linear(512, 512)\n",
              "    (3): ReLU()\n",
              "    (4): Linear(512, 512)\n",
              "    (5): ReLU()\n",
              "    (6): Linear(512, 10)\n",
              "    (7): LogSoftmax()\n",
              "  )\n",
              ")"
            ]
          },
          "execution_count": 23,
          "metadata": {},
          "output_type": "execute_result"
        }
      ],
      "source": [
        "model512.eval()"
      ]
    },
    {
      "cell_type": "code",
      "execution_count": 24,
      "metadata": {},
      "outputs": [
        {
          "name": "stdout",
          "output_type": "stream",
          "text": [
            "3.35 s ± 65.1 ms per loop (mean ± std. dev. of 7 runs, 1 loop each)\n"
          ]
        }
      ],
      "source": [
        "%%timeit\n",
        "\n",
        "with torch.no_grad():\n",
        "    for batch_data, batch_labels in train_dataloader:\n",
        "        model_labels = model512(batch_data.to(device))"
      ]
    },
    {
      "cell_type": "code",
      "execution_count": 25,
      "metadata": {},
      "outputs": [
        {
          "name": "stdout",
          "output_type": "stream",
          "text": [
            "\n"
          ]
        }
      ],
      "source": [
        "weights = [x.detach().numpy() for x in model512.parameters() if len(x.shape) == 2]\n",
        "biases = [x.detach().numpy() for x in model512.parameters() if len(x.shape) == 1]\n",
        "\n",
        "inference_model = NeuralNetworkCUDA(784, 10, 512)\n",
        "inference_model.load_model(weights, biases)"
      ]
    },
    {
      "cell_type": "code",
      "execution_count": 26,
      "metadata": {},
      "outputs": [
        {
          "name": "stdout",
          "output_type": "stream",
          "text": [
            "3.34 s ± 22.9 ms per loop (mean ± std. dev. of 7 runs, 1 loop each)\n"
          ]
        }
      ],
      "source": [
        "%%timeit\n",
        "\n",
        "for batch_data, batch_labels in train_dataloader:\n",
        "    model_labels = inference_model.apply(batch_data)"
      ]
    },
    {
      "cell_type": "markdown",
      "metadata": {},
      "source": [
        "Вычисление на cpu сравнялось с вычислением на гпу"
      ]
    },
    {
      "cell_type": "code",
      "execution_count": 27,
      "metadata": {},
      "outputs": [
        {
          "name": "stderr",
          "output_type": "stream",
          "text": [
            "100%|██████████| 4000/4000 [00:32<00:00, 125.00it/s]\n"
          ]
        },
        {
          "name": "stdout",
          "output_type": "stream",
          "text": [
            "Epoch - 0 : loss 0.5019309280186426, accuracy 0.8161828517913818\n",
            "Current learning rate: 0.001\n"
          ]
        },
        {
          "name": "stderr",
          "output_type": "stream",
          "text": [
            "100%|██████████| 4000/4000 [00:31<00:00, 128.80it/s]\n"
          ]
        },
        {
          "name": "stdout",
          "output_type": "stream",
          "text": [
            "Epoch - 1 : loss 0.38197320134425533, accuracy 0.8612012267112732\n",
            "Current learning rate: 0.001\n"
          ]
        },
        {
          "name": "stderr",
          "output_type": "stream",
          "text": [
            "100%|██████████| 4000/4000 [00:30<00:00, 130.24it/s]"
          ]
        },
        {
          "name": "stdout",
          "output_type": "stream",
          "text": [
            "Epoch - 2 : loss 0.3442518028831109, accuracy 0.8748324513435364\n",
            "Current learning rate: 0.001\n"
          ]
        },
        {
          "name": "stderr",
          "output_type": "stream",
          "text": [
            "\n"
          ]
        }
      ],
      "source": [
        "model1024     = Network(num_layers=4, dropout_prob=0, hidden_layers_size=1024)\n",
        "optimizer = torch.optim.Adam(model1024.parameters())\n",
        "criterion = CrossEntropy()\n",
        "\n",
        "device = 'cpu'\n",
        "\n",
        "model1024.to(device)\n",
        "\n",
        "for epoch in range(3):\n",
        "    loss, acc = perform_epoch(model1024, train_dataloader, criterion,\n",
        "                                optimizer=optimizer, device=device)\n",
        "    print(f\"Epoch - {epoch} : loss {loss}, accuracy {acc}\")\n",
        "    print(f\"Current learning rate: {optimizer.param_groups[0]['lr']}\")"
      ]
    },
    {
      "cell_type": "code",
      "execution_count": 28,
      "metadata": {},
      "outputs": [
        {
          "data": {
            "text/plain": [
              "Network(\n",
              "  (activations): ModuleDict(\n",
              "    (relu): ReLU()\n",
              "  )\n",
              "  (layers): ModuleList(\n",
              "    (0): Linear(784, 1024)\n",
              "    (1): ReLU()\n",
              "    (2): Linear(1024, 1024)\n",
              "    (3): ReLU()\n",
              "    (4): Linear(1024, 1024)\n",
              "    (5): ReLU()\n",
              "    (6): Linear(1024, 10)\n",
              "    (7): LogSoftmax()\n",
              "  )\n",
              ")"
            ]
          },
          "execution_count": 28,
          "metadata": {},
          "output_type": "execute_result"
        }
      ],
      "source": [
        "model1024.eval()"
      ]
    },
    {
      "cell_type": "code",
      "execution_count": 29,
      "metadata": {},
      "outputs": [
        {
          "name": "stdout",
          "output_type": "stream",
          "text": [
            "4.06 s ± 43.9 ms per loop (mean ± std. dev. of 7 runs, 1 loop each)\n"
          ]
        }
      ],
      "source": [
        "%%timeit\n",
        "\n",
        "with torch.no_grad():\n",
        "    for batch_data, batch_labels in train_dataloader:\n",
        "        model_labels = model1024(batch_data.to(device))"
      ]
    },
    {
      "cell_type": "code",
      "execution_count": 30,
      "metadata": {},
      "outputs": [
        {
          "name": "stdout",
          "output_type": "stream",
          "text": [
            "\n"
          ]
        }
      ],
      "source": [
        "weights = [x.detach().numpy() for x in model1024.parameters() if len(x.shape) == 2]\n",
        "biases = [x.detach().numpy() for x in model1024.parameters() if len(x.shape) == 1]\n",
        "\n",
        "inference_model = NeuralNetworkCUDA(784, 10, 1024)\n",
        "inference_model.load_model(weights, biases)"
      ]
    },
    {
      "cell_type": "code",
      "execution_count": 31,
      "metadata": {},
      "outputs": [
        {
          "name": "stdout",
          "output_type": "stream",
          "text": [
            "3.29 s ± 8.91 ms per loop (mean ± std. dev. of 7 runs, 1 loop each)\n"
          ]
        }
      ],
      "source": [
        "%%timeit\n",
        "\n",
        "for batch_data, batch_labels in train_dataloader:\n",
        "    model_labels = inference_model.apply(batch_data)"
      ]
    },
    {
      "cell_type": "code",
      "execution_count": 32,
      "metadata": {},
      "outputs": [
        {
          "name": "stderr",
          "output_type": "stream",
          "text": [
            "100%|██████████| 4000/4000 [00:59<00:00, 67.01it/s]\n"
          ]
        },
        {
          "name": "stdout",
          "output_type": "stream",
          "text": [
            "Epoch - 0 : loss 0.5145789016648196, accuracy 0.817065954208374\n",
            "Current learning rate: 0.001\n"
          ]
        },
        {
          "name": "stderr",
          "output_type": "stream",
          "text": [
            "100%|██████████| 4000/4000 [00:59<00:00, 67.51it/s]\n"
          ]
        },
        {
          "name": "stdout",
          "output_type": "stream",
          "text": [
            "Epoch - 1 : loss 0.3870886690532789, accuracy 0.859600841999054\n",
            "Current learning rate: 0.001\n"
          ]
        },
        {
          "name": "stderr",
          "output_type": "stream",
          "text": [
            "100%|██████████| 4000/4000 [00:59<00:00, 67.65it/s]"
          ]
        },
        {
          "name": "stdout",
          "output_type": "stream",
          "text": [
            "Epoch - 2 : loss 0.3523322514698375, accuracy 0.8709164261817932\n",
            "Current learning rate: 0.001\n"
          ]
        },
        {
          "name": "stderr",
          "output_type": "stream",
          "text": [
            "\n"
          ]
        }
      ],
      "source": [
        "model1532     = Network(num_layers=4, dropout_prob=0, hidden_layers_size=1532)\n",
        "optimizer = torch.optim.Adam(model1532.parameters())\n",
        "criterion = CrossEntropy()\n",
        "\n",
        "device = 'cpu'\n",
        "\n",
        "model1532.to(device)\n",
        "\n",
        "for epoch in range(3):\n",
        "    loss, acc = perform_epoch(model1532, train_dataloader, criterion,\n",
        "                                optimizer=optimizer, device=device)\n",
        "    print(f\"Epoch - {epoch} : loss {loss}, accuracy {acc}\")\n",
        "    print(f\"Current learning rate: {optimizer.param_groups[0]['lr']}\")"
      ]
    },
    {
      "cell_type": "code",
      "execution_count": 33,
      "metadata": {},
      "outputs": [
        {
          "data": {
            "text/plain": [
              "Network(\n",
              "  (activations): ModuleDict(\n",
              "    (relu): ReLU()\n",
              "  )\n",
              "  (layers): ModuleList(\n",
              "    (0): Linear(784, 1532)\n",
              "    (1): ReLU()\n",
              "    (2): Linear(1532, 1532)\n",
              "    (3): ReLU()\n",
              "    (4): Linear(1532, 1532)\n",
              "    (5): ReLU()\n",
              "    (6): Linear(1532, 10)\n",
              "    (7): LogSoftmax()\n",
              "  )\n",
              ")"
            ]
          },
          "execution_count": 33,
          "metadata": {},
          "output_type": "execute_result"
        }
      ],
      "source": [
        "model1532.eval()"
      ]
    },
    {
      "cell_type": "code",
      "execution_count": 34,
      "metadata": {},
      "outputs": [
        {
          "name": "stdout",
          "output_type": "stream",
          "text": [
            "5.58 s ± 141 ms per loop (mean ± std. dev. of 7 runs, 1 loop each)\n"
          ]
        }
      ],
      "source": [
        "%%timeit\n",
        "\n",
        "with torch.no_grad():\n",
        "    for batch_data, batch_labels in train_dataloader:\n",
        "        model_labels = model1532(batch_data.to(device))"
      ]
    },
    {
      "cell_type": "code",
      "execution_count": 35,
      "metadata": {},
      "outputs": [
        {
          "name": "stdout",
          "output_type": "stream",
          "text": [
            "\n"
          ]
        }
      ],
      "source": [
        "weights = [x.detach().numpy() for x in model1532.parameters() if len(x.shape) == 2]\n",
        "biases = [x.detach().numpy() for x in model1532.parameters() if len(x.shape) == 1]\n",
        "\n",
        "inference_model = NeuralNetworkCUDA(784, 10, 1532)\n",
        "inference_model.load_model(weights, biases)"
      ]
    },
    {
      "cell_type": "code",
      "execution_count": 36,
      "metadata": {},
      "outputs": [
        {
          "name": "stdout",
          "output_type": "stream",
          "text": [
            "3.3 s ± 18.2 ms per loop (mean ± std. dev. of 7 runs, 1 loop each)\n"
          ]
        }
      ],
      "source": [
        "%%timeit\n",
        "\n",
        "for batch_data, batch_labels in train_dataloader:\n",
        "    model_labels = inference_model.apply(batch_data)"
      ]
    },
    {
      "cell_type": "markdown",
      "metadata": {},
      "source": [
        "Получилось, что при увеличении размерности нейростеи вычисления на гпу не замедляются, но на cpu заметно падает скорость инференса"
      ]
    }
  ],
  "metadata": {
    "colab": {
      "provenance": []
    },
    "kernelspec": {
      "display_name": "torch-env",
      "language": "python",
      "name": "python3"
    },
    "language_info": {
      "codemirror_mode": {
        "name": "ipython",
        "version": 3
      },
      "file_extension": ".py",
      "mimetype": "text/x-python",
      "name": "python",
      "nbconvert_exporter": "python",
      "pygments_lexer": "ipython3",
      "version": "3.11.7"
    }
  },
  "nbformat": 4,
  "nbformat_minor": 0
}
